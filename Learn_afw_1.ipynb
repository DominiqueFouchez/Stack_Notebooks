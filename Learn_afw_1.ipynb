{
 "metadata": {
  "name": ""
 },
 "nbformat": 3,
 "nbformat_minor": 0,
 "worksheets": [
  {
   "cells": [
    {
     "cell_type": "code",
     "collapsed": false,
     "input": [
      "import lsst.afw.image as afwImage\n",
      "import lsst.afw.geom as afwGeom\n",
      "import lsst.afw.coord as afwCoord\n",
      "import numpy as np\n",
      "import os\n",
      "DD=os.getenv(\"DATADIR\")+\"learn_stack/\"\n",
      "#print DD"
     ],
     "language": "python",
     "metadata": {},
     "outputs": [],
     "prompt_number": 1
    },
    {
     "cell_type": "code",
     "collapsed": false,
     "input": [
      "im = afwImage.ImageF(100, 200)\n",
      "imarr = im.getArray()"
     ],
     "language": "python",
     "metadata": {},
     "outputs": [],
     "prompt_number": 2
    },
    {
     "cell_type": "code",
     "collapsed": false,
     "input": [
      "foo = afwImage.MaskedImageF(DD+\"calexp-850586-14.fits\")\n",
      "goo = afwImage.MaskedImageF(DD+\"calexp-850587-14.fits\")\n",
      "exp = afwImage.ExposureF(DD+\"calexp-850586-14.fits\")"
     ],
     "language": "python",
     "metadata": {},
     "outputs": [],
     "prompt_number": 3
    },
    {
     "cell_type": "code",
     "collapsed": false,
     "input": [
      "fim, fvar = foo.getImage().getArray(), foo.getVariance().getArray()\n",
      "gim, gvar = goo.getImage().getArray(), goo.getVariance().getArray()"
     ],
     "language": "python",
     "metadata": {},
     "outputs": [],
     "prompt_number": 4
    },
    {
     "cell_type": "code",
     "collapsed": false,
     "input": [
      "print foo.getHeight(),foo.getWidth()\n",
      "for y in range(foo.getWidth() - 1):\n",
      "    for x in range(1, foo.getHeight()):\n",
      "        if fim[x - 1, y + 1] > fim[x, y]:\n",
      "            fim[x, y] += gim[x, y]\n",
      "            fvar[x, y] += gvar[x, y]"
     ],
     "language": "python",
     "metadata": {},
     "outputs": [
      {
       "output_type": "stream",
       "stream": "stdout",
       "text": [
        "4612 2048\n"
       ]
      }
     ],
     "prompt_number": 5
    },
    {
     "cell_type": "code",
     "collapsed": false,
     "input": [
      "print exp.getWcs().skyToPixel(afwCoord.Coord(afwGeom.PointD(12.4, 54.3)))"
     ],
     "language": "python",
     "metadata": {},
     "outputs": [
      {
       "output_type": "stream",
       "stream": "stdout",
       "text": [
        "(-7.2696e+12, -1.1611e+14)\n"
       ]
      }
     ],
     "prompt_number": 6
    },
    {
     "cell_type": "code",
     "collapsed": false,
     "input": [
      "import lsst.afw.table as afwTable\n",
      "cat = afwTable.SourceCatalog.readFits(DD+\"SRC-850586-14.fits\")"
     ],
     "language": "python",
     "metadata": {},
     "outputs": [],
     "prompt_number": 7
    },
    {
     "cell_type": "code",
     "collapsed": false,
     "input": [
      "i=0\n",
      "for src in cat:\n",
      "    i+=1\n",
      "    if (i<10):\n",
      "        print i,src.getCentroid()"
     ],
     "language": "python",
     "metadata": {},
     "outputs": [
      {
       "output_type": "stream",
       "stream": "stdout",
       "text": [
        "1 (666, 6)\n",
        "2 (1595, 5)\n",
        "3 (1604, 5)\n",
        "4 (1400, 6)\n",
        "5 (1571, 12)\n",
        "6 (321, 13)\n",
        "7 (1448, 17)\n",
        "8 (1199.5, 17.195)\n",
        "9 (931.9, 24.576)\n"
       ]
      }
     ],
     "prompt_number": 8
    },
    {
     "cell_type": "code",
     "collapsed": false,
     "input": [
      "print cat.get(\"flux.sinc\")"
     ],
     "language": "python",
     "metadata": {},
     "outputs": [
      {
       "output_type": "stream",
       "stream": "stdout",
       "text": [
        "[  3991.9283242    2364.01451865   3261.11991406 ...,   4925.87080856\n",
        "   3042.75160482  24345.89238295]\n"
       ]
      }
     ],
     "prompt_number": 9
    },
    {
     "cell_type": "code",
     "collapsed": false,
     "input": [
      "#print cat.schema"
     ],
     "language": "python",
     "metadata": {},
     "outputs": [],
     "prompt_number": 64
    },
    {
     "cell_type": "code",
     "collapsed": false,
     "input": [],
     "language": "python",
     "metadata": {},
     "outputs": []
    }
   ],
   "metadata": {}
  }
 ]
}