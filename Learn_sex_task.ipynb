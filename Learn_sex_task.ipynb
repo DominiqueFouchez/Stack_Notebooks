{
 "metadata": {
  "name": ""
 },
 "nbformat": 3,
 "nbformat_minor": 0,
 "worksheets": [
  {
   "cells": [
    {
     "cell_type": "code",
     "collapsed": false,
     "input": [
      "import lsst.afw.image as afwImage\n",
      "import lsst.afw.geom as afwGeom\n",
      "import lsst.afw.coord as afwCoord\n",
      "import lsst.afw.math as afwMath\n",
      "import lsst.afw.detection as afwDetection\n",
      "import lsst.afw.display.utils as displayUtils\n",
      "import lsst.afw.table as afwTable\n",
      "import lsst.meas.algorithms as measAlg\n",
      "import lsst.afw.display.ds9 as ds9\n",
      "import numpy as np\n",
      "import os\n",
      "DD=os.getenv(\"DATADIR\")+\"learn_stack/\"\n",
      "print DD\n",
      "ds9.setMaskTransparency(40)"
     ],
     "language": "python",
     "metadata": {},
     "outputs": [
      {
       "output_type": "stream",
       "stream": "stdout",
       "text": [
        "/renoir_data_02/fouchez/lsst_data/learn_stack/\n"
       ]
      }
     ],
     "prompt_number": 1
    },
    {
     "cell_type": "code",
     "collapsed": false,
     "input": [
      "exposure = afwImage.ExposureF(DD+\"calexp-850586-14.fits\")\n",
      "mi = exposure.getMaskedImage()\n",
      "im = mi.getImage()"
     ],
     "language": "python",
     "metadata": {},
     "outputs": [],
     "prompt_number": 3
    },
    {
     "cell_type": "code",
     "collapsed": false,
     "input": [
      "nsigma = 5\n",
      "stats = afwMath.makeStatistics(im, afwMath.MEANCLIP | afwMath.STDEVCLIP)\n",
      "threshold5 = stats.getValue(afwMath.MEANCLIP) + nsigma*stats.getValue(afwMath.STDEVCLIP)\n",
      "print \"Mean of the image is %.3f counts, stdev is %.3f counts\" % (stats.getValue(afwMath.MEANCLIP), stats.getValue(afwMath.STDEVCLIP))\n",
      "print \"The %d-sigma detection threshold is at %.2f counts\" % (nsigma, threshold5)"
     ],
     "language": "python",
     "metadata": {},
     "outputs": [
      {
       "output_type": "stream",
       "stream": "stdout",
       "text": [
        "Mean of the image is 0.735 counts, stdev is 26.583 counts\n",
        "The 5-sigma detection threshold is at 133.65 counts\n"
       ]
      }
     ],
     "prompt_number": 4
    },
    {
     "cell_type": "code",
     "collapsed": false,
     "input": [
      "from lsst.meas.algorithms.detection import SourceDetectionTask\n",
      "from lsst.meas.algorithms.measurement import SourceMeasurementTask\n",
      "from lsst.pipe.tasks.measurePsf import MeasurePsfTask\n",
      "\n",
      "schema = afwTable.SourceTable.makeMinimalSchema()\n",
      "\n",
      "config = SourceDetectionTask.ConfigClass()\n",
      "config.reEstimateBackground = False\n",
      "detectionTask = SourceDetectionTask(config=config, schema=schema)\n",
      " \n",
      "config = SourceMeasurementTask.ConfigClass()\n",
      "config.slots.psfFlux = \"flux.sinc\" # use of the psf flux is hardcoded in secondMomentStarSelector\n",
      "measureTask = SourceMeasurementTask(schema, config=config)\n",
      "\n",
      "config = MeasurePsfTask.ConfigClass()\n",
      "starSelector = config.starSelector.apply()\n",
      "starSelector.config.badFlags = [\"flags.pixel.edge\", \"flags.pixel.cr.center\", \"flags.pixel.interpolated.center\", \"flags.pixel.saturated.center\"]\n",
      "psfDeterminer = config.psfDeterminer.apply()\n",
      "psfDeterminer.config.sizeCellX = 128\n",
      "psfDeterminer.config.sizeCellY = 128\n",
      "psfDeterminer.config.spatialOrder = 1\n",
      "psfDeterminer.config.nEigenComponents = 3\n",
      "measurePsfTask = MeasurePsfTask(config=config, schema=schema)"
     ],
     "language": "python",
     "metadata": {},
     "outputs": [],
     "prompt_number": 5
    },
    {
     "cell_type": "code",
     "collapsed": false,
     "input": [
      "# Again clear the detection masks\n",
      "mask = exposure.getMaskedImage().getMask()\n",
      "mask &= ~(mask.getPlaneBitMask(\"DETECTED\")) \n",
      "frame=1\n",
      "ds9.mtv(exposure, frame=frame, title=\"Original Image Off of Disk\"); frame += 1"
     ],
     "language": "python",
     "metadata": {},
     "outputs": [],
     "prompt_number": 6
    },
    {
     "cell_type": "code",
     "collapsed": false,
     "input": [
      "# And then re-detect, re-measure, select stars, and build the Psf model\n",
      "table = afwTable.SourceTable.make(schema)\n",
      "sources = detectionTask.run(table, exposure, sigma=2).sources\n",
      "measureTask.measure(exposure, sources)\n"
     ],
     "language": "python",
     "metadata": {},
     "outputs": [],
     "prompt_number": 7
    },
    {
     "cell_type": "markdown",
     "metadata": {},
     "source": [
      "!!! WHAT is sigma above ????"
     ]
    },
    {
     "cell_type": "code",
     "collapsed": false,
     "input": [
      "ds9.mtv(exposure, frame=frame, title=\"Original Image Off of Disk\"); frame += 1\n"
     ],
     "language": "python",
     "metadata": {},
     "outputs": [],
     "prompt_number": 8
    },
    {
     "cell_type": "code",
     "collapsed": false,
     "input": [
      "result = measurePsfTask.run(exposure, sources)"
     ],
     "language": "python",
     "metadata": {},
     "outputs": [],
     "prompt_number": 9
    },
    {
     "cell_type": "code",
     "collapsed": false,
     "input": [
      "psf = result.psf\n",
      "psfIm = psf.computeImage()\n",
      "ds9.mtv(psfIm, frame=frame, title=\"Psf Image\"); frame += 1"
     ],
     "language": "python",
     "metadata": {},
     "outputs": [],
     "prompt_number": 10
    },
    {
     "cell_type": "code",
     "collapsed": false,
     "input": [
      "import lsst.meas.algorithms.utils as measUtils\n",
      "cellSet = result.cellSet\n",
      "measUtils.showPsfMosaic(exposure, psf=psf, frame=frame); frame += 1\n"
     ],
     "language": "python",
     "metadata": {},
     "outputs": [],
     "prompt_number": 11
    },
    {
     "cell_type": "code",
     "collapsed": false,
     "input": [
      "ds9.mtv(exposure, frame=frame, title=\"Re-Measured Footprints\")\n",
      "with ds9.Buffering():\n",
      "    for s in sources:\n",
      "        xy = s.getCentroid()\n",
      "        ds9.dot('+', *xy, frame=frame)\n",
      "        if s.get(\"calib.psf.candidate\"):\n",
      "            ds9.dot('x', *xy, ctype=ds9.YELLOW, frame=frame)\n",
      "        if s.get(\"calib.psf.used\"):\n",
      "            ds9.dot('o', *xy, size=30, ctype=ds9.RED, frame=frame)\n",
      "frame += 1\n"
     ],
     "language": "python",
     "metadata": {},
     "outputs": [],
     "prompt_number": 12
    },
    {
     "cell_type": "code",
     "collapsed": false,
     "input": [
      "\n",
      "\n",
      "shape = psf.computeShape()\n",
      "sigma = shape.getDeterminantRadius()\n",
      "print \"Psf approximate Gaussian sigma = %.3f pixels; FWHM = %.3f pixels\" % (sigma, sigma * 2. * np.sqrt(2. * np.log(2.)))\n",
      "kWidth = (int(sigma * 7 + 0.5) // 2) * 2 + 1 # make sure kernel size is odd\n",
      "gaussFunc = afwMath.GaussianFunction1D(sigma)\n",
      "gaussKernel = afwMath.SeparableKernel(kWidth, kWidth, gaussFunc, gaussFunc)\n",
      "\n",
      "im = exposure.getMaskedImage().getImage()\n",
      "smoothedIm = im.Factory(im.getDimensions())\n",
      "afwMath.convolve(smoothedIm, im, gaussKernel)\n",
      "ds9.mtv(smoothedIm, frame=frame, title=\"Detection Image (smoothed with appx Psf)\"); frame += 1\n",
      "\n"
     ],
     "language": "python",
     "metadata": {},
     "outputs": [
      {
       "output_type": "stream",
       "stream": "stdout",
       "text": [
        "Psf approximate Gaussian sigma = 1.605 pixels; FWHM = 3.780 pixels\n"
       ]
      }
     ],
     "prompt_number": 13
    },
    {
     "cell_type": "code",
     "collapsed": false,
     "input": [
      "npixMin=1\n",
      "grow=1\n",
      "isotropic=False\n",
      "fs0 = afwDetection.FootprintSet(smoothedIm, afwDetection.Threshold(threshold5), npixMin)\n",
      "fs = afwDetection.FootprintSet(fs0, grow, isotropic)\n",
      "ds9.mtv(smoothedIm, frame=frame, title=\"Re-detected and re-grown Footprints\")\n",
      "for footprint in fs.getFootprints():\n",
      "    displayUtils.drawFootprint(footprint, frame=frame)\n",
      "frame += 1\n"
     ],
     "language": "python",
     "metadata": {},
     "outputs": [],
     "prompt_number": 14
    },
    {
     "cell_type": "code",
     "collapsed": false,
     "input": [
      "apRad=3\n",
      "# Define the measurements we want to make\n",
      "ctrlCentroid = measAlg.SdssCentroidControl()\n",
      "ctrlAperture = measAlg.SincFluxControl()\n",
      "ctrlAperture.radius2 = apRad\n",
      "\n",
      "schema = afwTable.SourceTable.makeMinimalSchema()\n",
      "algorithms = [\n",
      "    measAlg.MeasureSourcesBuilder().addAlgorithm(ctrlCentroid).build(schema),\n",
      "    measAlg.MeasureSourcesBuilder().addAlgorithm(ctrlAperture).build(schema)]\n"
     ],
     "language": "python",
     "metadata": {},
     "outputs": [],
     "prompt_number": 15
    },
    {
     "cell_type": "code",
     "collapsed": false,
     "input": [
      "# Build a new, empty source catalog from this schema\n",
      "cat = afwTable.SourceCatalog(schema)\n",
      "table = cat.table\n",
      "table.defineCentroid(\"centroid.sdss\")\n",
      "table.defineApFlux(\"flux.sinc\")\n",
      "\n",
      "# Turn the Footprints into Sources \n",
      "fs.makeSources(cat)\n",
      "print \"Measuring %d objects\" % (len(cat))\n",
      "\n",
      "# And apply each algorithm to each Source, measuring on the orignal image\n",
      "for source in cat:\n",
      "    for alg in algorithms:\n",
      "        alg.apply(source, exposure)"
     ],
     "language": "python",
     "metadata": {},
     "outputs": [
      {
       "output_type": "stream",
       "stream": "stdout",
       "text": [
        "Measuring 294 objects\n"
       ]
      }
     ],
     "prompt_number": 16
    },
    {
     "cell_type": "code",
     "collapsed": false,
     "input": [],
     "language": "python",
     "metadata": {},
     "outputs": []
    }
   ],
   "metadata": {}
  }
 ]
}