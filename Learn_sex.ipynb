{
 "metadata": {
  "name": ""
 },
 "nbformat": 3,
 "nbformat_minor": 0,
 "worksheets": [
  {
   "cells": [
    {
     "cell_type": "code",
     "collapsed": false,
     "input": [
      "import lsst.afw.image as afwImage\n",
      "import lsst.afw.geom as afwGeom\n",
      "import lsst.afw.coord as afwCoord\n",
      "import lsst.afw.math as afwMath\n",
      "import lsst.afw.detection as afwDetection\n",
      "import lsst.afw.display.utils as displayUtils\n",
      "import lsst.afw.table as afwTable\n",
      "import lsst.meas.algorithms as measAlg\n",
      "import lsst.afw.display.ds9 as ds9\n",
      "import numpy as np\n",
      "import os\n",
      "DD=os.getenv(\"DATADIR\")+\"learn_stack/\"\n",
      "ds9.setMaskTransparency(40)\n"
     ],
     "language": "python",
     "metadata": {},
     "outputs": [],
     "prompt_number": 1
    },
    {
     "cell_type": "code",
     "collapsed": false,
     "input": [
      "exposure = afwImage.ExposureF(DD+\"calexp-850586-14.fits\")\n",
      "mi = exposure.getMaskedImage()\n",
      "im = mi.getImage()"
     ],
     "language": "python",
     "metadata": {},
     "outputs": [],
     "prompt_number": 2
    },
    {
     "cell_type": "code",
     "collapsed": false,
     "input": [
      "frame = 1\n",
      "ds9.mtv(exposure, frame=frame, title=\"Original Image Off of Disk\"); frame += 1\n"
     ],
     "language": "python",
     "metadata": {},
     "outputs": [],
     "prompt_number": 3
    },
    {
     "cell_type": "code",
     "collapsed": false,
     "input": [
      "mask = mi.getMask()\n",
      "mask &= ~(mask.getPlaneBitMask(\"DETECTED\")) \n",
      "ds9.mtv(exposure, frame=frame, title=\"Detection Mask Removed\"); frame += 1\n"
     ],
     "language": "python",
     "metadata": {},
     "outputs": [],
     "prompt_number": 4
    },
    {
     "cell_type": "code",
     "collapsed": false,
     "input": [
      "\n",
      "print mask.getMaskPlaneDict().keys()\n"
     ],
     "language": "python",
     "metadata": {},
     "outputs": [
      {
       "output_type": "stream",
       "stream": "stdout",
       "text": [
        "['BAD', 'CR', 'DETECTED', 'DETECTED_NEGATIVE', 'EDGE', 'INTRP', 'SAT', 'SUSPECT', 'UNMASKEDNAN']\n"
       ]
      }
     ],
     "prompt_number": 5
    },
    {
     "cell_type": "code",
     "collapsed": false,
     "input": [
      "#\n",
      "#Subtract background\n",
      "#\n",
      "back_size = 64\n",
      "bctrl = afwMath.BackgroundControl(im.getWidth()//back_size + 1,\n",
      "                                  im.getHeight()//back_size + 1)\n",
      "backobj = afwMath.makeBackground(im, bctrl)\n",
      "im -= backobj.getImageF(\"LINEAR\")"
     ],
     "language": "python",
     "metadata": {},
     "outputs": [],
     "prompt_number": 6
    },
    {
     "cell_type": "code",
     "collapsed": false,
     "input": [
      "nsigma = 5\n",
      "stats = afwMath.makeStatistics(im, afwMath.MEANCLIP | afwMath.STDEVCLIP)\n",
      "threshold5 = stats.getValue(afwMath.MEANCLIP) + nsigma*stats.getValue(afwMath.STDEVCLIP)\n",
      "print \"Mean of the image is %.3f counts, stdev is %.3f counts\" % (stats.getValue(afwMath.MEANCLIP), stats.getValue(afwMath.STDEVCLIP))\n",
      "print \"The %d-sigma detection threshold is at %.2f counts\" % (nsigma, threshold5)"
     ],
     "language": "python",
     "metadata": {},
     "outputs": [
      {
       "output_type": "stream",
       "stream": "stdout",
       "text": [
        "Mean of the image is -0.160 counts, stdev is 26.518 counts\n",
        "The 5-sigma detection threshold is at 132.43 counts\n"
       ]
      }
     ],
     "prompt_number": 7
    },
    {
     "cell_type": "code",
     "collapsed": false,
     "input": [
      "#\n",
      "#Smooth image with a\n",
      "# 1 2 1\n",
      "# 2 4 2\n",
      "# 1 2 1\n",
      "# filter\n",
      "oneD = afwMath.PolynomialFunction1D([2, 0, -1])\n",
      "kernel = afwMath.SeparableKernel(3, 3, oneD, oneD)\n",
      "smoothedIm = im.Factory(im.getDimensions())\n",
      "afwMath.convolve(smoothedIm, im, kernel)"
     ],
     "language": "python",
     "metadata": {},
     "outputs": [],
     "prompt_number": 8
    },
    {
     "cell_type": "code",
     "collapsed": false,
     "input": [
      "ds9.mtv(smoothedIm, frame=frame, title=\"Detection Image (smoothed with a filter)\"); frame += 1"
     ],
     "language": "python",
     "metadata": {},
     "outputs": [],
     "prompt_number": 9
    },
    {
     "cell_type": "code",
     "collapsed": false,
     "input": [
      "npixMin=1\n",
      "threshold = afwDetection.Threshold(threshold5)\n",
      "fs0 = afwDetection.FootprintSet(smoothedIm, threshold, npixMin)\n",
      "ds9.mtv(smoothedIm, frame=frame, title=\"Detected Footprints at %d sigma\" % (nsigma))\n",
      "for footprint in fs0.getFootprints():\n",
      "    displayUtils.drawFootprint(footprint, frame=frame)\n",
      "frame += 1\n"
     ],
     "language": "python",
     "metadata": {},
     "outputs": [],
     "prompt_number": 11
    },
    {
     "cell_type": "code",
     "collapsed": false,
     "input": [
      "grow =1\n",
      "if grow > 0:\n",
      "    isotropic = False\n",
      "    fs = afwDetection.FootprintSet(fs0, grow, isotropic)\n",
      "ds9.mtv(smoothedIm, frame=frame, title=\"Grown Footprints\")\n",
      "for footprint in fs.getFootprints():\n",
      "    displayUtils.drawFootprint(footprint, frame=frame)\n"
     ],
     "language": "python",
     "metadata": {},
     "outputs": [],
     "prompt_number": 12
    },
    {
     "cell_type": "code",
     "collapsed": false,
     "input": [
      "fs.setMask(mi.getMask(), \"DETECTED\")\n",
      "ds9.mtv(mi, frame=frame, title=\"Detection plane in original image\"); frame += 1"
     ],
     "language": "python",
     "metadata": {},
     "outputs": [],
     "prompt_number": 13
    },
    {
     "cell_type": "code",
     "collapsed": false,
     "input": [
      "apRad=3\n",
      "# Define the measurements we want to make\n",
      "ctrlCentroid = measAlg.SdssCentroidControl()\n",
      "ctrlAperture = measAlg.SincFluxControl()\n",
      "ctrlAperture.radius2 = apRad\n",
      "\n",
      "schema = afwTable.SourceTable.makeMinimalSchema()\n",
      "algorithms = [\n",
      "    measAlg.MeasureSourcesBuilder().addAlgorithm(ctrlCentroid).build(schema),\n",
      "    measAlg.MeasureSourcesBuilder().addAlgorithm(ctrlAperture).build(schema)]\n",
      "cat = afwTable.SourceCatalog(schema)\n",
      "\n",
      "table = cat.table\n",
      "table.defineCentroid(\"centroid.sdss\")\n",
      "table.defineApFlux(\"flux.sinc\")"
     ],
     "language": "python",
     "metadata": {},
     "outputs": [],
     "prompt_number": 14
    },
    {
     "cell_type": "code",
     "collapsed": false,
     "input": [
      "#schema"
     ],
     "language": "python",
     "metadata": {},
     "outputs": [],
     "prompt_number": 15
    },
    {
     "cell_type": "code",
     "collapsed": false,
     "input": [
      "# Measure sources\n",
      "fs.makeSources(cat)\n",
      "print \"Measuring %d objects\" % (len(cat))\n",
      "\n",
      "for source in cat:\n",
      "    for alg in algorithms:\n",
      "        alg.apply(source, exposure)"
     ],
     "language": "python",
     "metadata": {},
     "outputs": [
      {
       "output_type": "stream",
       "stream": "stdout",
       "text": [
        "Measuring 407 objects\n"
       ]
      }
     ],
     "prompt_number": 16
    },
    {
     "cell_type": "code",
     "collapsed": false,
     "input": [
      "ds9.mtv(mi, frame=frame, title=\"Measured sources\",)\n",
      "ds9.setMaskTransparency(80)\n",
      "with ds9.Buffering():\n",
      "    for source in cat:\n",
      "        xs = source.getCentroid().getX()-exposure.getX0()\n",
      "        ys = source.getCentroid().getY()-exposure.getY0()\n",
      "        #print source.getCentroid().getX(),exposure.getX0()\n",
      "        ds9.dot(\"+\", xs, ys, frame=frame, ctype = ds9.RED)\n",
      "        #print \"ok\",source.getCentroid()"
     ],
     "language": "python",
     "metadata": {},
     "outputs": [],
     "prompt_number": 17
    },
    {
     "cell_type": "code",
     "collapsed": false,
     "input": [],
     "language": "python",
     "metadata": {},
     "outputs": [],
     "prompt_number": 38
    },
    {
     "cell_type": "code",
     "collapsed": false,
     "input": [],
     "language": "python",
     "metadata": {},
     "outputs": []
    }
   ],
   "metadata": {}
  }
 ]
}